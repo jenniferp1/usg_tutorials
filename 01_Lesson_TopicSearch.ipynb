{
 "cells": [
  {
   "cell_type": "markdown",
   "metadata": {},
   "source": [
    "# Lesson introduction: Getting topics from collection of documents\n",
    "\n",
    "### <font color='lightgreen'> gensim </font>\n",
    "Gensim is a Python library for topic modelling, document indexing and similarity retrieval with large corpora. Target audience is the natural language processing (NLP) and information retrieval (IR) community.\n",
    "\n",
    "Less abstract - this package breaks documents down by key, descriptive words and presents an interactive visualization shown below."
   ]
  },
  {
   "cell_type": "markdown",
   "metadata": {},
   "source": [
    "<img src=\"images/ldavis.png\">"
   ]
  },
  {
   "cell_type": "markdown",
   "metadata": {},
   "source": [
    "### <font color=\"red\">Important!  Read first.</font><br>\n",
    "\n",
    "The first time you do this exercise you may need to install NLTK's stopwords library.\n",
    "\n",
    "If you see this error, then perform the steps in the next section:\n",
    "\n",
    "<img src=\"images/stoperror.png\">"
   ]
  },
  {
   "cell_type": "markdown",
   "metadata": {},
   "source": [
    "### How to solve stopwords not found error\n",
    "\n",
    "Activate your environment in a terminal <br>\n",
    "`conda activate advanced`<br>\n",
    "The above command assumes you named your environment advanced\n",
    "\n",
    "Next import NLTK stop words.<br>\n",
    "In your terminal type <br>\n",
    "`python`\n",
    "\n",
    "You should see something like the following\n",
    "```diff\n",
    "Python 3.7.3 | packaged by conda-forge | (default, Dec  6 2019, 08:54:18) \n",
    "[GCC 7.3.0] :: Anaconda, Inc. on linux\n",
    "Type \"help\", \"copyright\", \"credits\" or \"license\" for more information.\n",
    ">>>\n",
    "```\n",
    "\n",
    "After the >>> type:<br>\n",
    "```diff\n",
    ">>> import nltk\n",
    ">>> nltk.download('stopwords')\n",
    "```\n",
    "\n",
    "You should see a similar message to below:\n",
    "```diff\n",
    "[nltk_data] Downloading package stopwords to\n",
    "[nltk_data]     /home/usr/nltk_data...\n",
    "[nltk_data]   Unzipping corpora/stopwords.zip.\n",
    "True\n",
    "\n",
    "```\n",
    "\n",
    "Next type\n",
    "```diff\n",
    ">>> nltk.download('wordnet')\n",
    "```\n",
    "\n",
    "You should see:\n",
    "```diff\n",
    "[nltk_data] Downloading package wordnet to /home/usr/nltk_data...\n",
    "[nltk_data]   Unzipping corpora/wordnet.zip.\n",
    "True\n",
    "```\n",
    "\n",
    "Next type\n",
    "```diff\n",
    ">>> nltk.download('punkt')\n",
    "```\n",
    "\n",
    "You should see:\n",
    "```diff\n",
    "[nltk_data] Downloading package punkt to /home/usr/nltk_data...\n",
    "[nltk_data]   Unzipping tokenizers/punkt.zip.\n",
    "True\n",
    "```\n",
    "\n",
    "You'll need to repeat this process with a few more commands:\n",
    "```diff\n",
    ">>> nltk.download('averaged_perceptron_tagger')\n",
    "\n",
    ">>> nltk.download('maxent_ne_chunker')\n",
    "\n",
    ">>> nltk.download('words')\n",
    "```"
   ]
  },
  {
   "cell_type": "markdown",
   "metadata": {},
   "source": [
    "### To start the lesson\n",
    "Since this is more advanced, let's work the exercise together:\n",
    "<br> Click on the link to get started [Exercises](Exercises_Solutions.ipynb)"
   ]
  }
 ],
 "metadata": {
  "kernelspec": {
   "display_name": "Python 3",
   "language": "python",
   "name": "python3"
  },
  "language_info": {
   "codemirror_mode": {
    "name": "ipython",
    "version": 3
   },
   "file_extension": ".py",
   "mimetype": "text/x-python",
   "name": "python",
   "nbconvert_exporter": "python",
   "pygments_lexer": "ipython3",
   "version": "3.7.3"
  }
 },
 "nbformat": 4,
 "nbformat_minor": 2
}
