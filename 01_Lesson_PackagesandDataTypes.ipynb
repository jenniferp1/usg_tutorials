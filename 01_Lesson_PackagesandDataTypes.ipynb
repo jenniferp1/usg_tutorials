{
 "cells": [
  {
   "cell_type": "markdown",
   "metadata": {},
   "source": [
    "# <font color=\"blue\"> LESSON 1: Definitions and Importing Packages </font>"
   ]
  },
  {
   "cell_type": "markdown",
   "metadata": {},
   "source": [
    "# Definitions\n",
    "\n",
    "### <font color='lightgreen'> Jupyter Notebook </font> \n",
    "Jupyter notebook is a web application that allows you to run your Python code, embed visualizations and explanatory text all in one place. \n",
    "\n",
    "### <font color='lightgreen'> Variables </font>\n",
    "In simplest terms, a variable is just a box that you can store values you want to reference later. <br>\n",
    "Variables can be updated or referenced as a program runs.\n",
    "\n",
    "### <font color='lightgreen'> Values </font>\n",
    "Values are pieces of information you want to store for later reference or output.  <br>\n",
    "Values can be numbers, letters, symbols, punctuation\n",
    "\n",
    "### <font color='lightgreen'> Strings </font>\n",
    "Strings are a sequence of characters. Where characters can be letters (a, b, c), numbers (1, 2, 3) or symbols/punctuation (!, &dollar;, &amp;). <br>\n",
    "In Python, you can recognize a string because it is surrounded by quotes (\" \").  This separates a string from a variable. <br>\n",
    "\n",
    "##### <font color='steelblue'>Example:</font> \n",
    "word = \"python\"<br>\n",
    "\n",
    "In the above example, <b>word</b> is the variable <br>\n",
    "<b>\"python\"</b> is both a string and the value stored in the variable word <br>\n"
   ]
  },
  {
   "cell_type": "markdown",
   "metadata": {},
   "source": [
    "### <font color='lightgreen'>  Packages and modules </font>\n",
    "We don't usually store all of our files in our computer in the same location. We store them in directories for easier access. Also, when we boot up our computer, it comes with some useful directories and files already loaded. Conceptually you can think of packages as being similar to different folders on your computer and modules as the files in those folders.  We can import modules from packages using the dot (.) operator.\n",
    "\n",
    "<img style=\"float: top; padding: 0px 100px 0px 0px;\" src=images/PackageModuleStructure.jpg>\n"
   ]
  },
  {
   "cell_type": "markdown",
   "metadata": {},
   "source": [
    "### <font color='lightgreen'> Arguments </font>\n",
    "Arguments are special variables you supply as input.  Some chunks of python code need arguments so that it knows what values to refrence or update."
   ]
  },
  {
   "cell_type": "code",
   "execution_count": 1,
   "metadata": {},
   "outputs": [],
   "source": [
    "# Here we define two variables.  \n",
    "# The first is an number (known as an integer type)\n",
    "# The second two values are known as strings\n",
    "# We will see more on types in the next section\n",
    "mynum = 7\n",
    "mystring = \"Hello world!?!\" \n",
    "numstring = \"5\""
   ]
  },
  {
   "cell_type": "markdown",
   "metadata": {},
   "source": [
    "#### Displaying results in Notebook \n",
    "There are two ways:\n",
    "<ol> \n",
    "<li> If the last line in a code cell is a variable, Jupyter will display it on the screen.</li>\n",
    "<li> You can also use print(), which is predefined in Python to display results on the screen.</li>\n",
    "</ol>"
   ]
  },
  {
   "cell_type": "code",
   "execution_count": 2,
   "metadata": {},
   "outputs": [
    {
     "data": {
      "text/plain": [
       "7"
      ]
     },
     "execution_count": 2,
     "metadata": {},
     "output_type": "execute_result"
    }
   ],
   "source": [
    "mynum"
   ]
  },
  {
   "cell_type": "code",
   "execution_count": 3,
   "metadata": {},
   "outputs": [
    {
     "data": {
      "text/plain": [
       "'Hello world!?!'"
      ]
     },
     "execution_count": 3,
     "metadata": {},
     "output_type": "execute_result"
    }
   ],
   "source": [
    "mynum\n",
    "mystring"
   ]
  },
  {
   "cell_type": "code",
   "execution_count": 4,
   "metadata": {},
   "outputs": [
    {
     "name": "stdout",
     "output_type": "stream",
     "text": [
      "7\n",
      "Hello world!?!\n",
      "5\n"
     ]
    }
   ],
   "source": [
    "print(mynum)\n",
    "print(mystring)\n",
    "print(numstring)"
   ]
  },
  {
   "cell_type": "markdown",
   "metadata": {},
   "source": [
    "### <font color='lightgreen'> Checking types </font>\n",
    "You can check the type of your variable using using Python's built in method `type()`"
   ]
  },
  {
   "cell_type": "code",
   "execution_count": 5,
   "metadata": {},
   "outputs": [
    {
     "name": "stdout",
     "output_type": "stream",
     "text": [
      "<class 'int'>\n",
      "<class 'str'>\n",
      "<class 'str'>\n"
     ]
    }
   ],
   "source": [
    "print(type(mynum))\n",
    "print(type(mystring))\n",
    "print(type(numstring))"
   ]
  },
  {
   "cell_type": "markdown",
   "metadata": {},
   "source": [
    "### <font color='lightgreen'> Operations on strings </font>\n",
    "From math class, you know numbers can be added, subtracted, etc.  \n",
    "\n",
    "You can also add strings together."
   ]
  },
  {
   "cell_type": "code",
   "execution_count": 6,
   "metadata": {},
   "outputs": [
    {
     "data": {
      "text/plain": [
       "'hello world'"
      ]
     },
     "execution_count": 6,
     "metadata": {},
     "output_type": "execute_result"
    }
   ],
   "source": [
    "hello = \"hello\"\n",
    "world = \"world\"\n",
    "helloworld = hello + \" \" + world\n",
    "helloworld"
   ]
  },
  {
   "cell_type": "markdown",
   "metadata": {},
   "source": [
    "You cannot add strings and numbers though.  This gives an error."
   ]
  },
  {
   "cell_type": "code",
   "execution_count": 7,
   "metadata": {},
   "outputs": [
    {
     "ename": "TypeError",
     "evalue": "unsupported operand type(s) for +: 'int' and 'str'",
     "output_type": "error",
     "traceback": [
      "\u001b[0;31m---------------------------------------------------------------------------\u001b[0m",
      "\u001b[0;31mTypeError\u001b[0m                                 Traceback (most recent call last)",
      "\u001b[0;32m<ipython-input-7-3645a223c008>\u001b[0m in \u001b[0;36m<module>\u001b[0;34m\u001b[0m\n\u001b[0;32m----> 1\u001b[0;31m \u001b[0mmynum\u001b[0m \u001b[0;34m+\u001b[0m \u001b[0mnumstring\u001b[0m\u001b[0;34m\u001b[0m\u001b[0;34m\u001b[0m\u001b[0m\n\u001b[0m",
      "\u001b[0;31mTypeError\u001b[0m: unsupported operand type(s) for +: 'int' and 'str'"
     ]
    }
   ],
   "source": [
    "mynum + numstring"
   ]
  },
  {
   "cell_type": "markdown",
   "metadata": {},
   "source": [
    "# Importing Packages\n",
    "\n",
    "There are different ways to import a package.\n",
    "<ol>\n",
    "<li> <font color=\"green\"> import </font> <em>package_name</em> </li>\n",
    "<li> <font color=\"green\"> import </font> <em>package_name</em> <font color=\"green\"> as </font> <em>nick_name</em> </li>\n",
    "</ol>"
   ]
  },
  {
   "cell_type": "code",
   "execution_count": 8,
   "metadata": {},
   "outputs": [],
   "source": [
    "#Import the package os using the first import statement above\n",
    "import os"
   ]
  },
  {
   "cell_type": "markdown",
   "metadata": {},
   "source": [
    "### <font color='lightgreen'> Checking out functions in a package </font>\n",
    "Let's try to see what functions are in os by using a shortcut in Jupyter notebooks"
   ]
  },
  {
   "cell_type": "code",
   "execution_count": null,
   "metadata": {},
   "outputs": [],
   "source": [
    "#Place the cursor at the end of os. and hit the Tab key\n",
    "os."
   ]
  },
  {
   "cell_type": "markdown",
   "metadata": {},
   "source": [
    "You should see something like below\n",
    "\n",
    "\n",
    "![alt text](images/shortcut.png)"
   ]
  },
  {
   "cell_type": "code",
   "execution_count": 9,
   "metadata": {},
   "outputs": [],
   "source": [
    "#If you get an error ModuleNotFOundError: No module named 'pandas'\n",
    "#You will need to install pandas by going to the terminal and typing\n",
    "# conda install pandas\n",
    "\n",
    "import pandas as pd"
   ]
  },
  {
   "cell_type": "code",
   "execution_count": null,
   "metadata": {},
   "outputs": [],
   "source": [
    "#You can try the shortcut again by placing the cursor at the end of the next line and hitting Tab\n",
    "pd."
   ]
  },
  {
   "cell_type": "markdown",
   "metadata": {},
   "source": [
    "You should see a list of functions available in the pandas library\n",
    "![alt text](images/pandas.png)"
   ]
  },
  {
   "cell_type": "markdown",
   "metadata": {},
   "source": [
    "# Arguments \n",
    "\n",
    "Let's check out the following functions in os:\n",
    "listdir, mkdir, getcwd  <br>\n",
    "\n",
    "\n",
    "and the following functions in pandas:\n",
    "DataFrame"
   ]
  },
  {
   "cell_type": "code",
   "execution_count": null,
   "metadata": {},
   "outputs": [],
   "source": [
    "#mkdir creates a directory  \n",
    "#Find the arguments for mkdir using Tab+Shift\n",
    "os.mkdir()"
   ]
  },
  {
   "cell_type": "markdown",
   "metadata": {},
   "source": [
    "You should see something like below\n",
    "![alt text](images/mkdir.png)"
   ]
  },
  {
   "cell_type": "markdown",
   "metadata": {},
   "source": [
    "Repeat the process below to see the the arguments available for the following functions: `listdir()` `getcwd()` and `DataFrame()`"
   ]
  },
  {
   "cell_type": "code",
   "execution_count": null,
   "metadata": {},
   "outputs": [],
   "source": [
    "#Find the arguments for listdir\n",
    "os.listdir()"
   ]
  },
  {
   "cell_type": "code",
   "execution_count": null,
   "metadata": {},
   "outputs": [],
   "source": [
    "#Find the arguments for getcwd\n",
    "os.getcwd()"
   ]
  },
  {
   "cell_type": "code",
   "execution_count": null,
   "metadata": {},
   "outputs": [],
   "source": [
    "#Find the arguments for DataFrame\n",
    "pd.DataFrame()"
   ]
  },
  {
   "cell_type": "markdown",
   "metadata": {},
   "source": [
    "##### We'll come back to pandas and DataFrames in the next lesson... \n",
    "\n",
    "<font color='magenta'> Knowledge Check </font> <br>\n",
    "In the code cell below create a variable named cwd and set it equal to the value returned by the function getcwd. Then print the value in cwd to the screen."
   ]
  },
  {
   "cell_type": "code",
   "execution_count": null,
   "metadata": {},
   "outputs": [],
   "source": [
    "cwd = os.getcwd()\n",
    "cwd"
   ]
  },
  {
   "cell_type": "code",
   "execution_count": null,
   "metadata": {},
   "outputs": [],
   "source": [
    "# Use listdir to print out the contents of the directory you are currently working in.  Hint: use cwd as the argument.\n",
    "os.listdir(cwd)"
   ]
  },
  {
   "cell_type": "code",
   "execution_count": null,
   "metadata": {},
   "outputs": [],
   "source": [
    "#Now let's use makedir to add a folder to our current working directory.\n",
    "#Create a variable called new and set it equal to cwd + the name AAA \n",
    "#Use your variable new as the argument for mkdir\n",
    "new = cwd+\"//00_AAA\"\n",
    "os.mkdir(new)"
   ]
  },
  {
   "cell_type": "code",
   "execution_count": null,
   "metadata": {},
   "outputs": [],
   "source": [
    "#Print your directory contents again\n",
    "os.listdir(cwd)"
   ]
  },
  {
   "cell_type": "markdown",
   "metadata": {},
   "source": [
    "### <font color='lightgreen'> Returning values from functions </font>\n",
    "Some functions return a value and others don't.  The difference is whether you can set a variable equal to the function."
   ]
  },
  {
   "cell_type": "code",
   "execution_count": 10,
   "metadata": {},
   "outputs": [],
   "source": [
    "#Import the package demo101 using the second import statement.  Use the alias demo.\n",
    "import demo101 as demo"
   ]
  },
  {
   "cell_type": "markdown",
   "metadata": {},
   "source": [
    "<font color='magenta'> Knowledge Check </font> <br>\n",
    "<ol>\n",
    "<li>Use the shortcut we learned above to see what functions are in demo</li>\n",
    "<li>What are the packages?</li>\n",
    "</ol>"
   ]
  },
  {
   "cell_type": "code",
   "execution_count": null,
   "metadata": {},
   "outputs": [],
   "source": [
    "demo.\n"
   ]
  },
  {
   "cell_type": "markdown",
   "metadata": {},
   "source": [
    "You should see `calc_area`, `calc_vol`, and `print_message`\n",
    "![alt text](images/demo.png)"
   ]
  },
  {
   "cell_type": "code",
   "execution_count": 11,
   "metadata": {},
   "outputs": [
    {
     "name": "stdout",
     "output_type": "stream",
     "text": [
      "Hello\n",
      "Hello\n",
      "Hello\n"
     ]
    }
   ],
   "source": [
    "#print_message does not return a value\n",
    "demo.print_message(\"Hello\",3)"
   ]
  },
  {
   "cell_type": "code",
   "execution_count": 12,
   "metadata": {},
   "outputs": [
    {
     "name": "stdout",
     "output_type": "stream",
     "text": [
      "6\n",
      "30\n"
     ]
    }
   ],
   "source": [
    "# The calc functions do return values.  In fact, the value returned by calc_area is used by calc_vol\n",
    "A = demo.calc_area(2,3)\n",
    "V = demo.calc_vol(A,5)\n",
    "\n",
    "print(A)\n",
    "print(V)"
   ]
  },
  {
   "cell_type": "markdown",
   "metadata": {},
   "source": [
    "Link to [Lesson 02](02_Lesson_Pandas.ipynb)"
   ]
  }
 ],
 "metadata": {
  "kernelspec": {
   "display_name": "Python 3",
   "language": "python",
   "name": "python3"
  },
  "language_info": {
   "codemirror_mode": {
    "name": "ipython",
    "version": 3
   },
   "file_extension": ".py",
   "mimetype": "text/x-python",
   "name": "python",
   "nbconvert_exporter": "python",
   "pygments_lexer": "ipython3",
   "version": "3.7.3"
  }
 },
 "nbformat": 4,
 "nbformat_minor": 2
}
