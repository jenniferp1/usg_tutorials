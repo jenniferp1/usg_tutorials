{
 "cells": [
  {
   "cell_type": "markdown",
   "metadata": {},
   "source": [
    "# Introduction\n",
    "\n",
    "This lesson introduces us to the following:\n",
    "<ul>\n",
    "    <li>Loading data from a file or database into Dataframes</li>\n",
    "     <li>Combining data from multiple files into one source</li>\n",
    "     <li>Using a map API to lookup locational data</li>\n",
    "     <li>Plotting locations on a map give a lat/lon</li>\n",
    "</ul>\n",
    "\n",
    "This exercise uses fictional customer data to identify the location of your top customer.  You have a customer database with the following information: email, phone number, last login ip address.  When customers login to your website a log is updated with the login ip and the login email.  You want to combine the information in your log with your database to identify your top customer.\n",
    "\n",
    "This exercise will show you how to load data, clean up duplicates, and combine the data from the two sources.  Then you will use a map API to identify the location of the phone number by area code and the ip address.  Using this information, you will map the possible locations your user lives in or logs in from."
   ]
  },
  {
   "cell_type": "markdown",
   "metadata": {},
   "source": [
    "# Functions\n",
    "\n",
    "<font color=\"red\">READ DIRECTIONS BELOW BEFORE PROCEEDING</font><br>\n",
    "The following 6 cells contain functions for your use.  <br>\n",
    "Execute the code in the cells but do <b>NOT</b> add or change anything since this could break the code!"
   ]
  },
  {
   "cell_type": "markdown",
   "metadata": {},
   "source": [
    "<h3 style=\"color:blue;\">Function 1</h3>"
   ]
  },
  {
   "cell_type": "code",
   "execution_count": 1,
   "metadata": {},
   "outputs": [],
   "source": [
    "'''\n",
    "Execute this code but do NOT modify!\n",
    "'''\n",
    "import numpy\n",
    "\n",
    "def editDistance(str1, str2, thresh=0.7):\n",
    "    '''\n",
    "    Inputs:\n",
    "    str1 = a string\n",
    "    str2 = a string\n",
    "    thresh = type float. this is an optional input.  \n",
    "             it defines how close a match is required to determine str1 and str2 are similar \n",
    "    Function:\n",
    "    This function compares how similar two strings are\n",
    "    If the similarity meet the threshold defined by ratio, True is returned\n",
    "    '''\n",
    "    m = len(str1)\n",
    "    n = len(str2)\n",
    "    lensum = float(m + n)\n",
    "    d = []           \n",
    "    for i in range(m+1):\n",
    "        d.append([i])        \n",
    "    del d[0][0]    \n",
    "    for j in range(n+1):\n",
    "        d[0].append(j)       \n",
    "    for j in range(1,n+1):\n",
    "        for i in range(1,m+1):\n",
    "            if str1[i-1] == str2[j-1]:\n",
    "                d[i].insert(j,d[i-1][j-1])           \n",
    "            else:\n",
    "                minimum = min(d[i-1][j]+1, d[i][j-1]+1, d[i-1][j-1]+2)         \n",
    "                d[i].insert(j, minimum)\n",
    "    ldist = d[-1][-1]\n",
    "    ratio = (lensum - ldist)/lensum\n",
    "    \n",
    "    if ratio >= thresh:\n",
    "        return True\n",
    "    else:\n",
    "        return False"
   ]
  },
  {
   "cell_type": "markdown",
   "metadata": {},
   "source": [
    "<h3 style=\"color:blue;\">Function 2</h3>"
   ]
  },
  {
   "cell_type": "code",
   "execution_count": 2,
   "metadata": {},
   "outputs": [],
   "source": [
    "'''\n",
    "Execute this code but do NOT modify!\n",
    "'''\n",
    "\n",
    "def get_location(selector):\n",
    "    '''\n",
    "    Inputs:\n",
    "    selector = phone or ip\n",
    "    Function:\n",
    "    This function returns a city and state and description of selector type\n",
    "    To simply this exercise (and because we use phony values) we assume we know the city and state\n",
    "    More advanced code would look up the location of the area codes and IP addresses\n",
    "    '''\n",
    "    if selector == 123456789:\n",
    "        city = \"los angeles\"\n",
    "        state = \"california\"\n",
    "    else:\n",
    "        city = \"washington\"\n",
    "        state = \"district of columbia\"\n",
    "    if \".\" in str(selector):\n",
    "        desc = \"ip\"\n",
    "    else:\n",
    "        desc = \"phone\"\n",
    "    return city, state, desc"
   ]
  },
  {
   "cell_type": "markdown",
   "metadata": {},
   "source": [
    "<h3 style=\"color:blue;\">Function 3</h3>"
   ]
  },
  {
   "cell_type": "code",
   "execution_count": 3,
   "metadata": {},
   "outputs": [],
   "source": [
    "'''\n",
    "Execute this code but do NOT modify!\n",
    "'''\n",
    "\n",
    "import requests\n",
    "import json\n",
    "import time\n",
    "\n",
    "def latlon(city, state):\n",
    "    '''\n",
    "    Inputs:\n",
    "    country = country where selector is found\n",
    "    Function:\n",
    "    This function returns a latitude and longitude for a US city,state pair\n",
    "    '''\n",
    "    \n",
    "    base = \"https://nominatim.openstreetmap.org/search?q=\"\n",
    "\n",
    "    params = \"{city}+{state}+united states&format=json&limit=1\".format(city=city, state=state)\n",
    "\n",
    "    url = \"{base}{params}\".format(base=base, params=params)\n",
    "    \n",
    "    response = requests.get(url)\n",
    "    \n",
    "    if response.status_code == requests.codes.ok:\n",
    "        txt = response.text\n",
    "        obj = json.loads(txt)\n",
    "        \n",
    "        if not obj[0] == []:\n",
    "            lat = obj[0]['lat']\n",
    "            lon = obj[0]['lon']\n",
    "        else:\n",
    "            lat = 0.0\n",
    "            lon = 0.0\n",
    "\n",
    "        return lat, lon\n",
    "    \n",
    "    else:\n",
    "        print(\"Error\", response.status_code)\n",
    "        \n",
    "        return 0,0"
   ]
  },
  {
   "cell_type": "markdown",
   "metadata": {},
   "source": [
    "<h3 style=\"color:blue;\">Function 4</h3>"
   ]
  },
  {
   "cell_type": "code",
   "execution_count": 4,
   "metadata": {},
   "outputs": [],
   "source": [
    "'''\n",
    "Execute this code but do NOT modify!\n",
    "'''\n",
    "\n",
    "import plotly as py\n",
    "from plotly.offline import download_plotlyjs, init_notebook_mode, plot, iplot\n",
    "\n",
    "def make_map(df):\n",
    "    '''\n",
    "    Inputs:\n",
    "    df = dataframe with columns for selector, lat, lon\n",
    "    Function:\n",
    "    This function generates a map\n",
    "    '''\n",
    "    \n",
    "    scl = [ [0,\"rgb(5, 10, 172)\"],[0.35,\"rgb(40, 60, 190)\"],[0.5,\"rgb(70, 100, 245)\"],\\\n",
    "        [0.6,\"rgb(90, 120, 245)\"],[0.7,\"rgb(106, 137, 247)\"],[1,\"rgb(220, 220, 220)\"] ]\n",
    "\n",
    "    data = [ dict(\n",
    "            type = 'scattergeo',\n",
    "            lon = df[df.columns[4]],\n",
    "            lat = df[df.columns[3]],\n",
    "            text = df[df.columns[2]],\n",
    "            mode = 'markers',\n",
    "            marker = dict(\n",
    "                size = 8,\n",
    "                opacity = 0.8,\n",
    "                reversescale = True,\n",
    "                autocolorscale = False,\n",
    "                symbol = 'square',\n",
    "                line = dict(\n",
    "                    width=1,\n",
    "                    color='rgba(102, 102, 102)'\n",
    "                ),\n",
    "\n",
    "            ))]\n",
    "\n",
    "    layout = dict(\n",
    "            title = 'Locations<br>(Hover for information)',\n",
    "            colorbar = False,\n",
    "            geo = dict(\n",
    "            scope='usa',\n",
    "            projection=dict( type='albers usa' ),\n",
    "            showland = True,\n",
    "            landcolor = \"rgb(250, 250, 250)\",\n",
    "            subunitcolor = \"rgb(217, 217, 217)\",\n",
    "            countrycolor = \"rgb(217, 217, 217)\",\n",
    "            countrywidth = 0.5,\n",
    "            subunitwidth = 0.5\n",
    "           ),\n",
    "        )\n",
    "\n",
    "    fig = dict( data=data, layout=layout )\n",
    "    init_notebook_mode(connected=True)\n",
    "    iplot( fig, validate=False, filename='loc-map' )\n",
    "   \n",
    "    return\n"
   ]
  },
  {
   "cell_type": "markdown",
   "metadata": {},
   "source": [
    "<h3 style=\"color:blue;\">Function 5</h3>"
   ]
  },
  {
   "cell_type": "code",
   "execution_count": 5,
   "metadata": {},
   "outputs": [],
   "source": [
    "import json\n",
    "\n",
    "def df_to_geojson(df, properties, dataset, output_name, lat='latitude', lon='longitude'):\n",
    "    \"\"\"\n",
    "    Turn a dataframe containing point data into a geojson formatted python dictionary\n",
    "    \n",
    "    df : the dataframe to convert to geojson\n",
    "    properties : a list of columns in the dataframe to turn into geojson feature properties\n",
    "    dataset : a variable name that describes the contents of the properties\n",
    "    output_name : name of output file\n",
    "    lat : the name of the column in the dataframe that contains latitude data\n",
    "    lon : the name of the column in the dataframe that contains longitude data\n",
    "    \"\"\"\n",
    "    \n",
    "    # create a new python dict to contain our geojson data, using geojson format\n",
    "    geojson = {'type':'FeatureCollection', 'features':[]}\n",
    "\n",
    "    # loop through each row in the dataframe and convert each row to geojson format\n",
    "    for _, row in df.iterrows():\n",
    "        # create a feature template to fill in\n",
    "        feature = {'type':'Feature',\n",
    "                   'properties':{},\n",
    "                   'geometry':{'type':'Point',\n",
    "                               'coordinates':[]}}\n",
    "\n",
    "        # fill in the coordinates\n",
    "        feature['geometry']['coordinates'] = [row[lon],row[lat]]\n",
    "\n",
    "        # for each column, get the value and add it as a new feature property\n",
    "        for prop in properties:\n",
    "            feature['properties'][prop] = row[prop]\n",
    "        \n",
    "        # add this feature (aka, converted dataframe row) to the list of features inside our dict\n",
    "        geojson['features'].append(feature)\n",
    "    \n",
    "    geojson_dict = geojson\n",
    "    geojson_str = json.dumps(geojson_dict, indent=2)\n",
    "\n",
    "    # save the geojson result to a file\n",
    "    output_filename = output_name\n",
    "    with open(output_filename, 'w') as output_file:\n",
    "        output_file.write('var {0} = {1};'.format(dataset, geojson_str))\n",
    "\n",
    "    # how many features did we save to the geojson file?\n",
    "    print('{0} geotagged features saved to file {1}'.format(len(geojson_dict['features']),output_filename))\n",
    "    \n",
    "    return "
   ]
  },
  {
   "cell_type": "markdown",
   "metadata": {},
   "source": [
    "<h3 style=\"color:blue;\">Function 6</h3>"
   ]
  },
  {
   "cell_type": "code",
   "execution_count": 6,
   "metadata": {},
   "outputs": [],
   "source": [
    "def combine_files(file1, file2):\n",
    "    '''\n",
    "    Combine two files into one, rename new file markers.js and delete the old.\n",
    "    Inputs:\n",
    "    - file1 = name of first file\n",
    "    - file2 = name of second file\n",
    "    '''\n",
    "    #combine files\n",
    "    f_in = open(file1, \"r\")\n",
    "    data2 = f_in.read()\n",
    "    f_in.close()\n",
    "    f_out = open(file2, \"a\")\n",
    "    f_out.write(\"\\n\"*2)\n",
    "    f_out.write(data2)\n",
    "    f_out.close()\n",
    "    \n",
    "    #rename conmbined file and delete other\n",
    "    if os.path.isfile(\"./markers.js\"):\n",
    "        os.remove(\"markers.js\")\n",
    "        \n",
    "    os.rename(file2, \"markers.js\")\n",
    "    os.remove(file1)\n",
    "    \n",
    "    print(\"files combined to markers.js\")\n",
    "    \n",
    "    return"
   ]
  },
  {
   "cell_type": "markdown",
   "metadata": {},
   "source": [
    "# Student Exercise Starts Here"
   ]
  },
  {
   "cell_type": "markdown",
   "metadata": {},
   "source": [
    "<b>Step 1</b>\n",
    "\n",
    "You will need to use the Python package called os. <br>\n",
    "This will let you interact with the operating system \n",
    "to look at files in your directory and get the current\n",
    "working directory.<br>\n",
    "<br>\n",
    "Hint: use <b>import</b> to access the code in os."
   ]
  },
  {
   "cell_type": "code",
   "execution_count": 7,
   "metadata": {},
   "outputs": [],
   "source": [
    "import os"
   ]
  },
  {
   "cell_type": "markdown",
   "metadata": {},
   "source": [
    "<b>Step 2</b>\n",
    "\n",
    "listdir() is a function in os that list files in your current directory.  Use the dot operator notation to list all your files. <br> Make sure you see the following:\n",
    "<ul>\n",
    "<li>mbox.txt</li>\n",
    "<li>Email_Database.xlsx</li>\n",
    "<li>plotly</li>\n",
    "<li>plotly.egg-info</li>\n",
    "<li>template.html</li>\n",
    "</ul>"
   ]
  },
  {
   "cell_type": "code",
   "execution_count": 8,
   "metadata": {},
   "outputs": [
    {
     "data": {
      "text/plain": [
       "['plotly',\n",
       " '.ipynb_checkpoints',\n",
       " 'markers.js',\n",
       " 'template.html',\n",
       " 'plotly.egg-info',\n",
       " 'icons',\n",
       " 'Email_Database.xlsx',\n",
       " 'mbox.txt',\n",
       " 'Maps_and_APIs.ipynb',\n",
       " 'js']"
      ]
     },
     "execution_count": 8,
     "metadata": {},
     "output_type": "execute_result"
    }
   ],
   "source": [
    "os.listdir()"
   ]
  },
  {
   "cell_type": "markdown",
   "metadata": {},
   "source": [
    "<b>Step 3</b>\n",
    "\n",
    "getcwd() is a function in os that returns the working directory.  Use this to set a variable called cwd to the current working directory then print out cwd to verify you did it right.  Notice the double backslashes (\\\\) used to separate folder and file names."
   ]
  },
  {
   "cell_type": "code",
   "execution_count": 9,
   "metadata": {},
   "outputs": [],
   "source": [
    "cwd = os.getcwd()\n",
    "cwd"
   ]
  },
  {
   "cell_type": "markdown",
   "metadata": {},
   "source": [
    "<b>Step 4</b>\n",
    "\n",
    "create a variable called textFile. <br>\n",
    "textFile should be a string.  Combine cwd (defined in step 3) with mbox.txt.  <br>Hint: Remember the double backslash.\n",
    "\n",
    "Print textFile to make sure the path to the file looks correct."
   ]
  },
  {
   "cell_type": "code",
   "execution_count": 10,
   "metadata": {},
   "outputs": [],
   "source": [
    "textFile = cwd+\"/mbox.txt\"\n",
    "textFile"
   ]
  },
  {
   "cell_type": "markdown",
   "metadata": {},
   "source": [
    "<b>Step 5</b>\n",
    "You will need to use a pandas DataFrame in the steps that follow.  Import pandas.  Use \"as\" to import it with the short name pd."
   ]
  },
  {
   "cell_type": "code",
   "execution_count": 11,
   "metadata": {},
   "outputs": [],
   "source": [
    "import pandas as pd"
   ]
  },
  {
   "cell_type": "markdown",
   "metadata": {},
   "source": [
    "<b>Step 6</b>\n",
    "Define a dataframe called df.  To do this you will need to use pd and DataFrame.  Don't forget the dot notation.<br>\n",
    "You should also specify a column named email.  \n",
    "\n",
    "Print the dataframe to verify you have an empty dataframe with one column called email."
   ]
  },
  {
   "cell_type": "code",
   "execution_count": 12,
   "metadata": {},
   "outputs": [
    {
     "data": {
      "text/html": [
       "<div>\n",
       "<style scoped>\n",
       "    .dataframe tbody tr th:only-of-type {\n",
       "        vertical-align: middle;\n",
       "    }\n",
       "\n",
       "    .dataframe tbody tr th {\n",
       "        vertical-align: top;\n",
       "    }\n",
       "\n",
       "    .dataframe thead th {\n",
       "        text-align: right;\n",
       "    }\n",
       "</style>\n",
       "<table border=\"1\" class=\"dataframe\">\n",
       "  <thead>\n",
       "    <tr style=\"text-align: right;\">\n",
       "      <th></th>\n",
       "      <th>email</th>\n",
       "    </tr>\n",
       "  </thead>\n",
       "  <tbody>\n",
       "  </tbody>\n",
       "</table>\n",
       "</div>"
      ],
      "text/plain": [
       "Empty DataFrame\n",
       "Columns: [email]\n",
       "Index: []"
      ]
     },
     "execution_count": 12,
     "metadata": {},
     "output_type": "execute_result"
    }
   ],
   "source": [
    "df = pd.DataFrame(columns=[\"email\"])\n",
    "df"
   ]
  },
  {
   "cell_type": "markdown",
   "metadata": {},
   "source": [
    "<b>Step 7</b>\n",
    "\n",
    "Use \"with open\" and .readlines() to open and read all the lines in textFile.<br>\n",
    "Iterate through each line in the read in text using \"for\". <br>\n",
    "Look for the email addresses of senders in the text file. <br>\n",
    "Do this by looking to see if the line startswith() \"From\". <br>\n",
    "If it does, split the line into words using split() then grab the email address listed right after \"From\"<br>\n",
    "Store the email in the dataframe, df, you created in the step above.\n",
    "\n",
    "Use df.head() to make sure you did everything correctly."
   ]
  },
  {
   "cell_type": "code",
   "execution_count": 13,
   "metadata": {},
   "outputs": [
    {
     "data": {
      "text/html": [
       "<div>\n",
       "<style scoped>\n",
       "    .dataframe tbody tr th:only-of-type {\n",
       "        vertical-align: middle;\n",
       "    }\n",
       "\n",
       "    .dataframe tbody tr th {\n",
       "        vertical-align: top;\n",
       "    }\n",
       "\n",
       "    .dataframe thead th {\n",
       "        text-align: right;\n",
       "    }\n",
       "</style>\n",
       "<table border=\"1\" class=\"dataframe\">\n",
       "  <thead>\n",
       "    <tr style=\"text-align: right;\">\n",
       "      <th></th>\n",
       "      <th>email</th>\n",
       "    </tr>\n",
       "  </thead>\n",
       "  <tbody>\n",
       "    <tr>\n",
       "      <th>0</th>\n",
       "      <td>DaForce@uct.ac.za</td>\n",
       "    </tr>\n",
       "    <tr>\n",
       "      <th>1</th>\n",
       "      <td>DaForce@uct.ac.za</td>\n",
       "    </tr>\n",
       "    <tr>\n",
       "      <th>2</th>\n",
       "      <td>Rogue1@media.berkeley.edu</td>\n",
       "    </tr>\n",
       "    <tr>\n",
       "      <th>3</th>\n",
       "      <td>Rogue1@media.berkeley.edu</td>\n",
       "    </tr>\n",
       "    <tr>\n",
       "      <th>4</th>\n",
       "      <td>DarthVader@umich.edu</td>\n",
       "    </tr>\n",
       "  </tbody>\n",
       "</table>\n",
       "</div>"
      ],
      "text/plain": [
       "                       email\n",
       "0          DaForce@uct.ac.za\n",
       "1          DaForce@uct.ac.za\n",
       "2  Rogue1@media.berkeley.edu\n",
       "3  Rogue1@media.berkeley.edu\n",
       "4       DarthVader@umich.edu"
      ]
     },
     "execution_count": 13,
     "metadata": {},
     "output_type": "execute_result"
    }
   ],
   "source": [
    "with open(textFile,\"r\") as file:\n",
    "    lines = file.readlines()\n",
    "\n",
    "for line in lines:\n",
    "    if line.startswith(\"From\"):\n",
    "        words = line.split()\n",
    "        email = words[1]\n",
    "        df.loc[df.index.size] = email\n",
    "        \n",
    "df.head()"
   ]
  },
  {
   "cell_type": "markdown",
   "metadata": {},
   "source": [
    "<b>Step 8</b>\n",
    "\n",
    "Use the pandas function value_counts() and sort=True to find the top emails in df. <br>\n",
    "Name your variable that will store the counts freq. <br>\n",
    "value_counts() takes an array as an argument. <br>\n",
    "You will need to use df[\"email\"].values to generate the necessary array of emails.\n",
    "\n",
    "When you're done print out freq.head() to see the results."
   ]
  },
  {
   "cell_type": "code",
   "execution_count": 14,
   "metadata": {},
   "outputs": [
    {
     "data": {
      "text/plain": [
       "DarthVader@umich.edu       390\n",
       "skywalker@indiana.edu      322\n",
       "princess.leia@iupui.edu    316\n",
       "Ewok@iupui.edu             222\n",
       "C-3PO@vt.edu               220\n",
       "dtype: int64"
      ]
     },
     "execution_count": 14,
     "metadata": {},
     "output_type": "execute_result"
    }
   ],
   "source": [
    "freq = pd.value_counts(df[\"email\"].values, sort=True)\n",
    "freq.head()"
   ]
  },
  {
   "cell_type": "markdown",
   "metadata": {},
   "source": [
    "<b>Step 9</b>\n",
    "\n",
    "To grab the top email you will need to use freq.index to list the emails.  Then use .values[0] which will grab the first email listed in freq.index. <br>\n",
    "Name your new variable top_email.\n",
    "\n",
    "Print out top_email to make sure it corresponds to DarthVader.\n"
   ]
  },
  {
   "cell_type": "code",
   "execution_count": 15,
   "metadata": {},
   "outputs": [
    {
     "data": {
      "text/plain": [
       "'DarthVader@umich.edu'"
      ]
     },
     "execution_count": 15,
     "metadata": {},
     "output_type": "execute_result"
    }
   ],
   "source": [
    "top_email = freq.index.values[0]\n",
    "top_email"
   ]
  },
  {
   "cell_type": "markdown",
   "metadata": {},
   "source": [
    "<b>Step 10</b>\n",
    "\n",
    "Open and read into a DataFrame the excel spreadsheet: Email_Database.xlsx.<br>\n",
    "Use the pandas function read_excel() to do this. <br>\n",
    "read_excel() takes the file name as the only argument you need.\n",
    "Name your new DataFrame: df_emails\n",
    "\n",
    "Use df_emails.head() to make sure it loaded right.\n"
   ]
  },
  {
   "cell_type": "code",
   "execution_count": 16,
   "metadata": {},
   "outputs": [
    {
     "data": {
      "text/html": [
       "<div>\n",
       "<style scoped>\n",
       "    .dataframe tbody tr th:only-of-type {\n",
       "        vertical-align: middle;\n",
       "    }\n",
       "\n",
       "    .dataframe tbody tr th {\n",
       "        vertical-align: top;\n",
       "    }\n",
       "\n",
       "    .dataframe thead th {\n",
       "        text-align: right;\n",
       "    }\n",
       "</style>\n",
       "<table border=\"1\" class=\"dataframe\">\n",
       "  <thead>\n",
       "    <tr style=\"text-align: right;\">\n",
       "      <th></th>\n",
       "      <th>emails</th>\n",
       "      <th>phones</th>\n",
       "      <th>ips</th>\n",
       "    </tr>\n",
       "  </thead>\n",
       "  <tbody>\n",
       "    <tr>\n",
       "      <th>0</th>\n",
       "      <td>AEuxDlmpAwxt</td>\n",
       "      <td>992647448936</td>\n",
       "      <td>290.52.283.8</td>\n",
       "    </tr>\n",
       "    <tr>\n",
       "      <th>1</th>\n",
       "      <td>AHfsnyRYiuTz</td>\n",
       "      <td>327480075452</td>\n",
       "      <td>352.77.713.4</td>\n",
       "    </tr>\n",
       "    <tr>\n",
       "      <th>2</th>\n",
       "      <td>AKmWMyZVAPIU</td>\n",
       "      <td>378132734350</td>\n",
       "      <td>366.62.777.7</td>\n",
       "    </tr>\n",
       "    <tr>\n",
       "      <th>3</th>\n",
       "      <td>ATvFStKMNVGe</td>\n",
       "      <td>177381034352</td>\n",
       "      <td>789.89.588.0</td>\n",
       "    </tr>\n",
       "    <tr>\n",
       "      <th>4</th>\n",
       "      <td>AWSZlaunHhEj</td>\n",
       "      <td>223418126068</td>\n",
       "      <td>711.00.456.8</td>\n",
       "    </tr>\n",
       "  </tbody>\n",
       "</table>\n",
       "</div>"
      ],
      "text/plain": [
       "         emails        phones           ips\n",
       "0  AEuxDlmpAwxt  992647448936  290.52.283.8\n",
       "1  AHfsnyRYiuTz  327480075452  352.77.713.4\n",
       "2  AKmWMyZVAPIU  378132734350  366.62.777.7\n",
       "3  ATvFStKMNVGe  177381034352  789.89.588.0\n",
       "4  AWSZlaunHhEj  223418126068  711.00.456.8"
      ]
     },
     "execution_count": 16,
     "metadata": {},
     "output_type": "execute_result"
    }
   ],
   "source": [
    "df_emails = pd.read_excel(\"Email_Database.xlsx\")\n",
    "df_emails.head()"
   ]
  },
  {
   "cell_type": "markdown",
   "metadata": {},
   "source": [
    "<b>Step 11</b>\n",
    "\n",
    "Notice that the email database you just loaded in the previous step only contains the username part of the email. <br>\n",
    "We need to normalize top_email.  First split the email address on \"@\".  \n",
    "\n",
    "Print top_email to see what it looks like."
   ]
  },
  {
   "cell_type": "code",
   "execution_count": 17,
   "metadata": {},
   "outputs": [
    {
     "data": {
      "text/plain": [
       "['DarthVader', 'umich.edu']"
      ]
     },
     "execution_count": 17,
     "metadata": {},
     "output_type": "execute_result"
    }
   ],
   "source": [
    "top_email = top_email.split(\"@\")\n",
    "top_email"
   ]
  },
  {
   "cell_type": "markdown",
   "metadata": {},
   "source": [
    "<b>Step 12</b>\n",
    "\n",
    "Notice the username is the first index in the list you made in the previous step.<br>\n",
    "Set top_email equal to this.\n",
    "\n",
    "Print it out to make sure everything looks right."
   ]
  },
  {
   "cell_type": "code",
   "execution_count": 18,
   "metadata": {},
   "outputs": [
    {
     "data": {
      "text/plain": [
       "'DarthVader'"
      ]
     },
     "execution_count": 18,
     "metadata": {},
     "output_type": "execute_result"
    }
   ],
   "source": [
    "top_email = top_email[0]\n",
    "top_email"
   ]
  },
  {
   "cell_type": "markdown",
   "metadata": {},
   "source": [
    "<b>Step 13</b>\n",
    "\n",
    "Repurpose the DataFrame df.  Re-initialize it with columns = ['email','phone/ip']. <br>\n",
    "Next iterate through df_emails using \"for\" and \"iterrows()\". <br>\n",
    "Grab the email from the email column of the DataFrame.  <br>\n",
    "Use the function editDistance (defined at Function 1 at the top of this notebook) to determine if an email is the same or similar to top_email. <br>\n",
    "If editDistance returns True, add the email and corresponding phone/ip to df.\n",
    "\n",
    "Print df when you're done to make sure it looks right."
   ]
  },
  {
   "cell_type": "code",
   "execution_count": 19,
   "metadata": {
    "scrolled": true
   },
   "outputs": [
    {
     "data": {
      "text/html": [
       "<div>\n",
       "<style scoped>\n",
       "    .dataframe tbody tr th:only-of-type {\n",
       "        vertical-align: middle;\n",
       "    }\n",
       "\n",
       "    .dataframe tbody tr th {\n",
       "        vertical-align: top;\n",
       "    }\n",
       "\n",
       "    .dataframe thead th {\n",
       "        text-align: right;\n",
       "    }\n",
       "</style>\n",
       "<table border=\"1\" class=\"dataframe\">\n",
       "  <thead>\n",
       "    <tr style=\"text-align: right;\">\n",
       "      <th></th>\n",
       "      <th>email</th>\n",
       "      <th>number</th>\n",
       "    </tr>\n",
       "  </thead>\n",
       "  <tbody>\n",
       "    <tr>\n",
       "      <th>0</th>\n",
       "      <td>Darth.Vader</td>\n",
       "      <td>123456789</td>\n",
       "    </tr>\n",
       "    <tr>\n",
       "      <th>1</th>\n",
       "      <td>Darth.Vader</td>\n",
       "      <td>172.16.254.1</td>\n",
       "    </tr>\n",
       "    <tr>\n",
       "      <th>2</th>\n",
       "      <td>DarthVader</td>\n",
       "      <td>123456789</td>\n",
       "    </tr>\n",
       "    <tr>\n",
       "      <th>3</th>\n",
       "      <td>DarthVader</td>\n",
       "      <td>172.16.254.1</td>\n",
       "    </tr>\n",
       "    <tr>\n",
       "      <th>4</th>\n",
       "      <td>DarthVader1</td>\n",
       "      <td>123456789</td>\n",
       "    </tr>\n",
       "    <tr>\n",
       "      <th>5</th>\n",
       "      <td>DarthVader1</td>\n",
       "      <td>172.16.254.1</td>\n",
       "    </tr>\n",
       "    <tr>\n",
       "      <th>6</th>\n",
       "      <td>darthvader</td>\n",
       "      <td>123456789</td>\n",
       "    </tr>\n",
       "    <tr>\n",
       "      <th>7</th>\n",
       "      <td>darthvader</td>\n",
       "      <td>172.16.254.1</td>\n",
       "    </tr>\n",
       "  </tbody>\n",
       "</table>\n",
       "</div>"
      ],
      "text/plain": [
       "         email        number\n",
       "0  Darth.Vader     123456789\n",
       "1  Darth.Vader  172.16.254.1\n",
       "2   DarthVader     123456789\n",
       "3   DarthVader  172.16.254.1\n",
       "4  DarthVader1     123456789\n",
       "5  DarthVader1  172.16.254.1\n",
       "6   darthvader     123456789\n",
       "7   darthvader  172.16.254.1"
      ]
     },
     "execution_count": 19,
     "metadata": {},
     "output_type": "execute_result"
    }
   ],
   "source": [
    "df = pd.DataFrame(columns=['email','number'])\n",
    "\n",
    "for idx, row in df_emails.iterrows():\n",
    "    email = row[0]\n",
    "    \n",
    "    if editDistance(top_email,email):\n",
    "        df.loc[df.index.size] = [row[0], row[1]]\n",
    "        df.loc[df.index.size] = [row[0], row[2]]\n",
    "        \n",
    "df"
   ]
  },
  {
   "cell_type": "markdown",
   "metadata": {},
   "source": [
    "<b>Step 14</b>\n",
    "\n",
    "Create two new columns in df called 'lat' and 'lon'. <br>\n",
    "To do this you need to define a list with brackets [].  Multiple this list by df.index.size. <br>\n",
    "Note df.index.size = number of rows in df.  You are basically generating two empty columns that you can then populate. <br>\n",
    "Iterate through df using \"for\" and \"iterrows()\".  As you iterate, use the functions get_location and latlon (these functions are defined at the top of the notebook) to get the location of the selectors in phone/ip column. <br>\n",
    "Add the latitude and longitude values returned by the latlon function to df.\n",
    "\n",
    "Print df when you're done to make sure the last two columns populated correctly."
   ]
  },
  {
   "cell_type": "code",
   "execution_count": 20,
   "metadata": {},
   "outputs": [
    {
     "data": {
      "text/html": [
       "<div>\n",
       "<style scoped>\n",
       "    .dataframe tbody tr th:only-of-type {\n",
       "        vertical-align: middle;\n",
       "    }\n",
       "\n",
       "    .dataframe tbody tr th {\n",
       "        vertical-align: top;\n",
       "    }\n",
       "\n",
       "    .dataframe thead th {\n",
       "        text-align: right;\n",
       "    }\n",
       "</style>\n",
       "<table border=\"1\" class=\"dataframe\">\n",
       "  <thead>\n",
       "    <tr style=\"text-align: right;\">\n",
       "      <th></th>\n",
       "      <th>email</th>\n",
       "      <th>number</th>\n",
       "      <th>description</th>\n",
       "      <th>latitude</th>\n",
       "      <th>longitude</th>\n",
       "      <th>city</th>\n",
       "      <th>state</th>\n",
       "    </tr>\n",
       "  </thead>\n",
       "  <tbody>\n",
       "    <tr>\n",
       "      <th>0</th>\n",
       "      <td>Darth.Vader</td>\n",
       "      <td>123456789</td>\n",
       "      <td>phone</td>\n",
       "      <td>34.0536909</td>\n",
       "      <td>-118.2427666</td>\n",
       "      <td>los angeles</td>\n",
       "      <td>california</td>\n",
       "    </tr>\n",
       "    <tr>\n",
       "      <th>1</th>\n",
       "      <td>Darth.Vader</td>\n",
       "      <td>172.16.254.1</td>\n",
       "      <td>ip</td>\n",
       "      <td>38.8948932</td>\n",
       "      <td>-77.0365529</td>\n",
       "      <td>washington</td>\n",
       "      <td>district of columbia</td>\n",
       "    </tr>\n",
       "    <tr>\n",
       "      <th>2</th>\n",
       "      <td>DarthVader</td>\n",
       "      <td>123456789</td>\n",
       "      <td>phone</td>\n",
       "      <td>34.0536909</td>\n",
       "      <td>-118.2427666</td>\n",
       "      <td>los angeles</td>\n",
       "      <td>california</td>\n",
       "    </tr>\n",
       "    <tr>\n",
       "      <th>3</th>\n",
       "      <td>DarthVader</td>\n",
       "      <td>172.16.254.1</td>\n",
       "      <td>ip</td>\n",
       "      <td>38.8948932</td>\n",
       "      <td>-77.0365529</td>\n",
       "      <td>washington</td>\n",
       "      <td>district of columbia</td>\n",
       "    </tr>\n",
       "    <tr>\n",
       "      <th>4</th>\n",
       "      <td>DarthVader1</td>\n",
       "      <td>123456789</td>\n",
       "      <td>phone</td>\n",
       "      <td>34.0536909</td>\n",
       "      <td>-118.2427666</td>\n",
       "      <td>los angeles</td>\n",
       "      <td>california</td>\n",
       "    </tr>\n",
       "    <tr>\n",
       "      <th>5</th>\n",
       "      <td>DarthVader1</td>\n",
       "      <td>172.16.254.1</td>\n",
       "      <td>ip</td>\n",
       "      <td>38.8948932</td>\n",
       "      <td>-77.0365529</td>\n",
       "      <td>washington</td>\n",
       "      <td>district of columbia</td>\n",
       "    </tr>\n",
       "    <tr>\n",
       "      <th>6</th>\n",
       "      <td>darthvader</td>\n",
       "      <td>123456789</td>\n",
       "      <td>phone</td>\n",
       "      <td>34.0536909</td>\n",
       "      <td>-118.2427666</td>\n",
       "      <td>los angeles</td>\n",
       "      <td>california</td>\n",
       "    </tr>\n",
       "    <tr>\n",
       "      <th>7</th>\n",
       "      <td>darthvader</td>\n",
       "      <td>172.16.254.1</td>\n",
       "      <td>ip</td>\n",
       "      <td>38.8948932</td>\n",
       "      <td>-77.0365529</td>\n",
       "      <td>washington</td>\n",
       "      <td>district of columbia</td>\n",
       "    </tr>\n",
       "  </tbody>\n",
       "</table>\n",
       "</div>"
      ],
      "text/plain": [
       "         email        number description    latitude     longitude  \\\n",
       "0  Darth.Vader     123456789       phone  34.0536909  -118.2427666   \n",
       "1  Darth.Vader  172.16.254.1          ip  38.8948932   -77.0365529   \n",
       "2   DarthVader     123456789       phone  34.0536909  -118.2427666   \n",
       "3   DarthVader  172.16.254.1          ip  38.8948932   -77.0365529   \n",
       "4  DarthVader1     123456789       phone  34.0536909  -118.2427666   \n",
       "5  DarthVader1  172.16.254.1          ip  38.8948932   -77.0365529   \n",
       "6   darthvader     123456789       phone  34.0536909  -118.2427666   \n",
       "7   darthvader  172.16.254.1          ip  38.8948932   -77.0365529   \n",
       "\n",
       "          city                 state  \n",
       "0  los angeles            california  \n",
       "1   washington  district of columbia  \n",
       "2  los angeles            california  \n",
       "3   washington  district of columbia  \n",
       "4  los angeles            california  \n",
       "5   washington  district of columbia  \n",
       "6  los angeles            california  \n",
       "7   washington  district of columbia  "
      ]
     },
     "execution_count": 20,
     "metadata": {},
     "output_type": "execute_result"
    }
   ],
   "source": [
    "df['description'] = [None]*df.index.size\n",
    "df['latitude'] = [None]*df.index.size\n",
    "df['longitude'] = [None]*df.index.size\n",
    "df['city'] = [None]*df.index.size\n",
    "df['state'] = [None]*df.index.size\n",
    "\n",
    "for idx, row in df.iterrows():\n",
    "   \n",
    "    city, state, desc = get_location(row[1])\n",
    "    df.loc[idx][\"city\"] = city\n",
    "    df.loc[idx][\"state\"] = state\n",
    "    df.loc[idx][\"description\"] = desc\n",
    "    \n",
    "    lat,lon = latlon(city,state)\n",
    "    df.loc[idx][\"latitude\"] = lat\n",
    "    df.loc[idx][\"longitude\"] = lon\n",
    "    \n",
    "df "
   ]
  },
  {
   "cell_type": "code",
   "execution_count": 21,
   "metadata": {},
   "outputs": [],
   "source": [
    "non_latlon_columns = ['email', 'number', 'description', 'city', 'state'] "
   ]
  },
  {
   "cell_type": "code",
   "execution_count": 22,
   "metadata": {},
   "outputs": [
    {
     "data": {
      "text/html": [
       "<div>\n",
       "<style scoped>\n",
       "    .dataframe tbody tr th:only-of-type {\n",
       "        vertical-align: middle;\n",
       "    }\n",
       "\n",
       "    .dataframe tbody tr th {\n",
       "        vertical-align: top;\n",
       "    }\n",
       "\n",
       "    .dataframe thead th {\n",
       "        text-align: right;\n",
       "    }\n",
       "</style>\n",
       "<table border=\"1\" class=\"dataframe\">\n",
       "  <thead>\n",
       "    <tr style=\"text-align: right;\">\n",
       "      <th></th>\n",
       "      <th>email</th>\n",
       "      <th>number</th>\n",
       "      <th>description</th>\n",
       "      <th>latitude</th>\n",
       "      <th>longitude</th>\n",
       "      <th>city</th>\n",
       "      <th>state</th>\n",
       "    </tr>\n",
       "  </thead>\n",
       "  <tbody>\n",
       "    <tr>\n",
       "      <th>0</th>\n",
       "      <td>Darth.Vader</td>\n",
       "      <td>123456789</td>\n",
       "      <td>phone</td>\n",
       "      <td>34.0536909</td>\n",
       "      <td>-118.2427666</td>\n",
       "      <td>los angeles</td>\n",
       "      <td>california</td>\n",
       "    </tr>\n",
       "    <tr>\n",
       "      <th>2</th>\n",
       "      <td>DarthVader</td>\n",
       "      <td>123456789</td>\n",
       "      <td>phone</td>\n",
       "      <td>34.0536909</td>\n",
       "      <td>-118.2427666</td>\n",
       "      <td>los angeles</td>\n",
       "      <td>california</td>\n",
       "    </tr>\n",
       "    <tr>\n",
       "      <th>4</th>\n",
       "      <td>DarthVader1</td>\n",
       "      <td>123456789</td>\n",
       "      <td>phone</td>\n",
       "      <td>34.0536909</td>\n",
       "      <td>-118.2427666</td>\n",
       "      <td>los angeles</td>\n",
       "      <td>california</td>\n",
       "    </tr>\n",
       "    <tr>\n",
       "      <th>6</th>\n",
       "      <td>darthvader</td>\n",
       "      <td>123456789</td>\n",
       "      <td>phone</td>\n",
       "      <td>34.0536909</td>\n",
       "      <td>-118.2427666</td>\n",
       "      <td>los angeles</td>\n",
       "      <td>california</td>\n",
       "    </tr>\n",
       "  </tbody>\n",
       "</table>\n",
       "</div>"
      ],
      "text/plain": [
       "         email     number description    latitude     longitude         city  \\\n",
       "0  Darth.Vader  123456789       phone  34.0536909  -118.2427666  los angeles   \n",
       "2   DarthVader  123456789       phone  34.0536909  -118.2427666  los angeles   \n",
       "4  DarthVader1  123456789       phone  34.0536909  -118.2427666  los angeles   \n",
       "6   darthvader  123456789       phone  34.0536909  -118.2427666  los angeles   \n",
       "\n",
       "        state  \n",
       "0  california  \n",
       "2  california  \n",
       "4  california  \n",
       "6  california  "
      ]
     },
     "execution_count": 22,
     "metadata": {},
     "output_type": "execute_result"
    }
   ],
   "source": [
    "df_phones = df[df[\"description\"] == \"phone\"]\n",
    "df_phones"
   ]
  },
  {
   "cell_type": "code",
   "execution_count": 23,
   "metadata": {},
   "outputs": [
    {
     "data": {
      "text/html": [
       "<div>\n",
       "<style scoped>\n",
       "    .dataframe tbody tr th:only-of-type {\n",
       "        vertical-align: middle;\n",
       "    }\n",
       "\n",
       "    .dataframe tbody tr th {\n",
       "        vertical-align: top;\n",
       "    }\n",
       "\n",
       "    .dataframe thead th {\n",
       "        text-align: right;\n",
       "    }\n",
       "</style>\n",
       "<table border=\"1\" class=\"dataframe\">\n",
       "  <thead>\n",
       "    <tr style=\"text-align: right;\">\n",
       "      <th></th>\n",
       "      <th>email</th>\n",
       "      <th>number</th>\n",
       "      <th>description</th>\n",
       "      <th>latitude</th>\n",
       "      <th>longitude</th>\n",
       "      <th>city</th>\n",
       "      <th>state</th>\n",
       "    </tr>\n",
       "  </thead>\n",
       "  <tbody>\n",
       "    <tr>\n",
       "      <th>1</th>\n",
       "      <td>Darth.Vader</td>\n",
       "      <td>172.16.254.1</td>\n",
       "      <td>ip</td>\n",
       "      <td>38.8948932</td>\n",
       "      <td>-77.0365529</td>\n",
       "      <td>washington</td>\n",
       "      <td>district of columbia</td>\n",
       "    </tr>\n",
       "    <tr>\n",
       "      <th>3</th>\n",
       "      <td>DarthVader</td>\n",
       "      <td>172.16.254.1</td>\n",
       "      <td>ip</td>\n",
       "      <td>38.8948932</td>\n",
       "      <td>-77.0365529</td>\n",
       "      <td>washington</td>\n",
       "      <td>district of columbia</td>\n",
       "    </tr>\n",
       "    <tr>\n",
       "      <th>5</th>\n",
       "      <td>DarthVader1</td>\n",
       "      <td>172.16.254.1</td>\n",
       "      <td>ip</td>\n",
       "      <td>38.8948932</td>\n",
       "      <td>-77.0365529</td>\n",
       "      <td>washington</td>\n",
       "      <td>district of columbia</td>\n",
       "    </tr>\n",
       "    <tr>\n",
       "      <th>7</th>\n",
       "      <td>darthvader</td>\n",
       "      <td>172.16.254.1</td>\n",
       "      <td>ip</td>\n",
       "      <td>38.8948932</td>\n",
       "      <td>-77.0365529</td>\n",
       "      <td>washington</td>\n",
       "      <td>district of columbia</td>\n",
       "    </tr>\n",
       "  </tbody>\n",
       "</table>\n",
       "</div>"
      ],
      "text/plain": [
       "         email        number description    latitude    longitude        city  \\\n",
       "1  Darth.Vader  172.16.254.1          ip  38.8948932  -77.0365529  washington   \n",
       "3   DarthVader  172.16.254.1          ip  38.8948932  -77.0365529  washington   \n",
       "5  DarthVader1  172.16.254.1          ip  38.8948932  -77.0365529  washington   \n",
       "7   darthvader  172.16.254.1          ip  38.8948932  -77.0365529  washington   \n",
       "\n",
       "                  state  \n",
       "1  district of columbia  \n",
       "3  district of columbia  \n",
       "5  district of columbia  \n",
       "7  district of columbia  "
      ]
     },
     "execution_count": 23,
     "metadata": {},
     "output_type": "execute_result"
    }
   ],
   "source": [
    "df_ips = df[df[\"description\"] == \"ip\"]\n",
    "df_ips"
   ]
  },
  {
   "cell_type": "code",
   "execution_count": 24,
   "metadata": {},
   "outputs": [
    {
     "name": "stdout",
     "output_type": "stream",
     "text": [
      "4 geotagged features saved to file phones.js\n"
     ]
    }
   ],
   "source": [
    "df_to_geojson(df_phones, properties=non_latlon_columns, dataset=\"phones\", output_name=\"phones.js\")"
   ]
  },
  {
   "cell_type": "code",
   "execution_count": 25,
   "metadata": {},
   "outputs": [
    {
     "name": "stdout",
     "output_type": "stream",
     "text": [
      "4 geotagged features saved to file ips.js\n"
     ]
    }
   ],
   "source": [
    "df_to_geojson(df_ips, properties=non_latlon_columns, dataset=\"ips\",output_name=\"ips.js\")"
   ]
  },
  {
   "cell_type": "code",
   "execution_count": 26,
   "metadata": {},
   "outputs": [
    {
     "name": "stdout",
     "output_type": "stream",
     "text": [
      "files combined to markers.js\n"
     ]
    }
   ],
   "source": [
    "combine_files(file1=\"phones.js\",file2=\"ips.js\")"
   ]
  },
  {
   "cell_type": "markdown",
   "metadata": {},
   "source": [
    "<b>Step 15</b>\n",
    "\n",
    "Use the function make_map (defined at top of notebook) to generate a map.  The only argument you need is your DataFrame, df.\n",
    "\n",
    "Play with the map: zoom, rotate, hover.\n",
    "\n",
    "Then for a nicer map open the html file in your browser."
   ]
  },
  {
   "cell_type": "code",
   "execution_count": 27,
   "metadata": {},
   "outputs": [
    {
     "data": {
      "text/html": [
       "<script>requirejs.config({paths: { 'plotly': ['https://cdn.plot.ly/plotly-latest.min']},});if(!window.Plotly) {{require(['plotly'],function(plotly) {window.Plotly=plotly;});}}</script>"
      ],
      "text/vnd.plotly.v1+html": [
       "<script>requirejs.config({paths: { 'plotly': ['https://cdn.plot.ly/plotly-latest.min']},});if(!window.Plotly) {{require(['plotly'],function(plotly) {window.Plotly=plotly;});}}</script>"
      ]
     },
     "metadata": {},
     "output_type": "display_data"
    },
    {
     "data": {
      "application/vnd.plotly.v1+json": {
       "data": [
        {
         "lat": [
          "34.0536909",
          "38.8948932",
          "34.0536909",
          "38.8948932",
          "34.0536909",
          "38.8948932",
          "34.0536909",
          "38.8948932"
         ],
         "lon": [
          "-118.2427666",
          "-77.0365529",
          "-118.2427666",
          "-77.0365529",
          "-118.2427666",
          "-77.0365529",
          "-118.2427666",
          "-77.0365529"
         ],
         "marker": {
          "autocolorscale": false,
          "line": {
           "color": "rgba(102, 102, 102)",
           "width": 1
          },
          "opacity": 0.8,
          "reversescale": true,
          "size": 8,
          "symbol": "square"
         },
         "mode": "markers",
         "text": [
          "phone",
          "ip",
          "phone",
          "ip",
          "phone",
          "ip",
          "phone",
          "ip"
         ],
         "type": "scattergeo"
        }
       ],
       "layout": {
        "colorbar": false,
        "geo": {
         "countrycolor": "rgb(217, 217, 217)",
         "countrywidth": 0.5,
         "landcolor": "rgb(250, 250, 250)",
         "projection": {
          "type": "albers usa"
         },
         "scope": "usa",
         "showland": true,
         "subunitcolor": "rgb(217, 217, 217)",
         "subunitwidth": 0.5
        },
        "title": "Locations<br>(Hover for information)"
       }
      },
      "text/html": [
       "<div id=\"5a21e9c5-8c28-408c-9764-b247cf4175a3\" style=\"height: 525px; width: 100%;\" class=\"plotly-graph-div\"></div><script type=\"text/javascript\">require([\"plotly\"], function(Plotly) { window.PLOTLYENV=window.PLOTLYENV || {};window.PLOTLYENV.BASE_URL=\"https://plot.ly\";Plotly.newPlot(\"5a21e9c5-8c28-408c-9764-b247cf4175a3\", [{\"type\": \"scattergeo\", \"lon\": [\"-118.2427666\", \"-77.0365529\", \"-118.2427666\", \"-77.0365529\", \"-118.2427666\", \"-77.0365529\", \"-118.2427666\", \"-77.0365529\"], \"lat\": [\"34.0536909\", \"38.8948932\", \"34.0536909\", \"38.8948932\", \"34.0536909\", \"38.8948932\", \"34.0536909\", \"38.8948932\"], \"text\": [\"phone\", \"ip\", \"phone\", \"ip\", \"phone\", \"ip\", \"phone\", \"ip\"], \"mode\": \"markers\", \"marker\": {\"size\": 8, \"opacity\": 0.8, \"reversescale\": true, \"autocolorscale\": false, \"symbol\": \"square\", \"line\": {\"width\": 1, \"color\": \"rgba(102, 102, 102)\"}}}], {\"title\": \"Locations<br>(Hover for information)\", \"colorbar\": false, \"geo\": {\"scope\": \"usa\", \"projection\": {\"type\": \"albers usa\"}, \"showland\": true, \"landcolor\": \"rgb(250, 250, 250)\", \"subunitcolor\": \"rgb(217, 217, 217)\", \"countrycolor\": \"rgb(217, 217, 217)\", \"countrywidth\": 0.5, \"subunitwidth\": 0.5}}, {\"showLink\": true, \"linkText\": \"Export to plot.ly\"})});</script>"
      ],
      "text/vnd.plotly.v1+html": [
       "<div id=\"5a21e9c5-8c28-408c-9764-b247cf4175a3\" style=\"height: 525px; width: 100%;\" class=\"plotly-graph-div\"></div><script type=\"text/javascript\">require([\"plotly\"], function(Plotly) { window.PLOTLYENV=window.PLOTLYENV || {};window.PLOTLYENV.BASE_URL=\"https://plot.ly\";Plotly.newPlot(\"5a21e9c5-8c28-408c-9764-b247cf4175a3\", [{\"type\": \"scattergeo\", \"lon\": [\"-118.2427666\", \"-77.0365529\", \"-118.2427666\", \"-77.0365529\", \"-118.2427666\", \"-77.0365529\", \"-118.2427666\", \"-77.0365529\"], \"lat\": [\"34.0536909\", \"38.8948932\", \"34.0536909\", \"38.8948932\", \"34.0536909\", \"38.8948932\", \"34.0536909\", \"38.8948932\"], \"text\": [\"phone\", \"ip\", \"phone\", \"ip\", \"phone\", \"ip\", \"phone\", \"ip\"], \"mode\": \"markers\", \"marker\": {\"size\": 8, \"opacity\": 0.8, \"reversescale\": true, \"autocolorscale\": false, \"symbol\": \"square\", \"line\": {\"width\": 1, \"color\": \"rgba(102, 102, 102)\"}}}], {\"title\": \"Locations<br>(Hover for information)\", \"colorbar\": false, \"geo\": {\"scope\": \"usa\", \"projection\": {\"type\": \"albers usa\"}, \"showland\": true, \"landcolor\": \"rgb(250, 250, 250)\", \"subunitcolor\": \"rgb(217, 217, 217)\", \"countrycolor\": \"rgb(217, 217, 217)\", \"countrywidth\": 0.5, \"subunitwidth\": 0.5}}, {\"showLink\": true, \"linkText\": \"Export to plot.ly\"})});</script>"
      ]
     },
     "metadata": {},
     "output_type": "display_data"
    }
   ],
   "source": [
    "make_map(df)"
   ]
  },
  {
   "cell_type": "code",
   "execution_count": 28,
   "metadata": {},
   "outputs": [],
   "source": [
    "import webbrowser\n",
    "url = \"template.html\"\n",
    "_ = webbrowser.open(url)"
   ]
  }
 ],
 "metadata": {
  "kernelspec": {
   "display_name": "Python 3",
   "language": "python",
   "name": "python3"
  },
  "language_info": {
   "codemirror_mode": {
    "name": "ipython",
    "version": 3
   },
   "file_extension": ".py",
   "mimetype": "text/x-python",
   "name": "python",
   "nbconvert_exporter": "python",
   "pygments_lexer": "ipython3",
   "version": "3.7.3"
  }
 },
 "nbformat": 4,
 "nbformat_minor": 2
}
